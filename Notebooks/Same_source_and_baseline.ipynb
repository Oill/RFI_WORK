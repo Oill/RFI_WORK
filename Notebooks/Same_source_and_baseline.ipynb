{
 "cells": [
  {
   "cell_type": "code",
   "execution_count": null,
   "metadata": {},
   "outputs": [],
   "source": [
    "import matplotlib\n",
    "matplotlib.use('Agg')\n",
    "import pandas as pd\n",
    "import seaborn as sns\n",
    "import glob\n",
    "import numpy as np\n",
    "# Some preprocessing utilities\n",
    "from sklearn.cross_validation import train_test_split # Data splitting\n",
    "from sklearn.naive_bayes import GaussianNB\n",
    "from sklearn.neighbors import KNeighborsClassifier\n",
    "from sklearn.ensemble import RandomForestClassifier\n",
    "from sklearn.metrics import roc_curve, auc\n",
    "from sklearn.metrics import accuracy_score\n",
    "from sklearn.metrics import precision_recall_fscore_support\n",
    "from sklearn.cross_validation import cross_val_score\n",
    "# Model result function\n",
    "from sklearn.metrics import classification_report,accuracy_score,confusion_matrix\n",
    "from sklearn import preprocessing\n",
    "from sklearn.utils import shuffle\n",
    "import itertools\n",
    "from sklearn.cross_validation import StratifiedKFold\n",
    "from sklearn.model_selection import RandomizedSearchCV\n",
    "from sklearn.preprocessing import normalize\n",
    "sns.set_context('paper')\n",
    "palette = sns.plt.cm.gray_r\n",
    "# set masked values to plot red\n",
    "palette.set_bad('r', 1.0)\n",
    "%matplotlib inline\n",
    "\n",
    "data_files = glob.glob(\"HH133*\")#+ glob.glob(\"HH13*pks16*0and2*csv\")\n",
    "print data_files\n",
    "\n",
    "names = [\"d_p\",\"tC_mean\",\"tp_mean\",'t_skew','t_kurtosis','t_cumsumx','t_sumvalues'\n",
    "         ,'t_slope','t_per25','t_per75','t_var',\"fC_mean\",\"fp_mean\",'f_skew'\n",
    "         ,'f_kurtosis','f_cumsumx','f_sumvalues','f_slope','f_per25','f_per75','f_var']\n",
    "target_names = ['Not RFI','RFI']\n",
    "\n",
    "for filenames in data_files:\n",
    "    for filename in [filenames, filenames.replace(\"HH\",\"VV\"), filenames.replace(\"HH\",\"HV\")]:\n",
    "        data = pd.DataFrame.from_csv(filename)\n",
    "        if len(np.where(data[\"rfi\"].values == 1)[0])/float(len(data[\"rfi\"])) < 0.4:\n",
    "            for name in names:\n",
    "                data[name] = normalize(data[name],norm='l2')[0]\n",
    "            HH_X0 = data\n",
    "            del data\n",
    "            for i in range(10):\n",
    "                HH_X0 = shuffle(HH_X0)\n",
    "            HH_X0_not = HH_X0[HH_X0[\"rfi\"]==0]\n",
    "            HH_X0_is = HH_X0[HH_X0[\"rfi\"]==1]\n",
    "            HH_X0 = pd.concat([HH_X0_not[:],HH_X0_is], ignore_index=True)\n",
    "            del HH_X0_not\n",
    "            del HH_X0_is\n",
    "\n",
    "            ######### NB ###############\n",
    "            model_accuracies = []\n",
    "            for i in range(1000):\n",
    "                (training_inputs,\n",
    "                 testing_inputs,\n",
    "                 training_classes,\n",
    "                 testing_classes) = train_test_split(HH_X0[names], HH_X0['rfi'], train_size=0.7)\n",
    "\n",
    "                decision_tree_classifier = GaussianNB()\n",
    "                decision_tree_classifier.fit(training_inputs, training_classes)\n",
    "                classifier_accuracy = decision_tree_classifier.score(testing_inputs, testing_classes)\n",
    "                model_accuracies.append(classifier_accuracy)\n",
    "\n",
    "            sns.plt.figure(figsize=(20,20)) \n",
    "            sns.distplot(model_accuracies)\n",
    "            sns.plt.xlabel(\"accuracy\",fontsize = 34 ,fontweight='bold')\n",
    "            sns.plt.ylabel(\"count\",fontsize = 34 ,fontweight='bold')\n",
    "            sns.plt.xticks(size=18)\n",
    "            sns.plt.yticks(size=18)\n",
    "            sns.plt.savefig('Same_source_'+filename.split(\"_\")[1].split('.')[0]+'_and_baseline_'+filename[:2]+'_'+filename.split('baseline')[-1].split('.')[0]+'_validation_NB.eps', format='eps', dpi=600)\n",
    "\n",
    "            cv_scores = cross_val_score(decision_tree_classifier, HH_X0[names], HH_X0['rfi'], cv=15)\n",
    "            sns.plt.figure(figsize=(20,20))\n",
    "            sns.distplot(cv_scores)\n",
    "            sns.plt.xlabel(\"accuracy\",fontsize = 34 ,fontweight='bold')\n",
    "            sns.plt.ylabel(\"count\",fontsize = 34 ,fontweight='bold')\n",
    "            sns.plt.xticks(size=18)\n",
    "            sns.plt.yticks(size=18)\n",
    "            sns.plt.savefig('Same_source_'+filename.split(\"_\")[1].split('.')[0]+'_and_baseline_'+filename[:2]+'_'+filename.split('baseline')[-1].split('.')[0]+'_cross_validation_NB.eps', format='eps', dpi=600)\n",
    "\n",
    "            ######### KNN ###############\n",
    "            model_accuracies = []\n",
    "            for i in range(1000):\n",
    "                (training_inputs,\n",
    "                 testing_inputs,\n",
    "                 training_classes,\n",
    "                 testing_classes) = train_test_split(HH_X0[names], HH_X0['rfi'], train_size=0.7)\n",
    "\n",
    "                decision_tree_classifier = KNeighborsClassifier()\n",
    "                decision_tree_classifier.fit(training_inputs, training_classes)\n",
    "                classifier_accuracy = decision_tree_classifier.score(testing_inputs, testing_classes)\n",
    "                model_accuracies.append(classifier_accuracy)\n",
    "\n",
    "            sns.plt.figure(figsize=(20,20)) \n",
    "            sns.distplot(model_accuracies)\n",
    "            sns.plt.xlabel(\"accuracy\",fontsize = 34 ,fontweight='bold')\n",
    "            sns.plt.ylabel(\"count\",fontsize = 34 ,fontweight='bold')\n",
    "            sns.plt.xticks(size=18)\n",
    "            sns.plt.yticks(size=18)\n",
    "            sns.plt.savefig('Same_source_'+filename.split(\"_\")[1].split('.')[0]+'_and_baseline_'+filename[:2]+'_'+filename.split('baseline')[-1].split('.')[0]+'_validation_KNN.eps', format='eps', dpi=600)\n",
    "\n",
    "            cv_scores = cross_val_score(decision_tree_classifier, HH_X0[names], HH_X0['rfi'], cv=15)\n",
    "            sns.plt.figure(figsize=(20,20))\n",
    "            sns.distplot(cv_scores)\n",
    "            sns.plt.xlabel(\"accuracy\",fontsize = 34 ,fontweight='bold')\n",
    "            sns.plt.ylabel(\"count\",fontsize = 34 ,fontweight='bold')\n",
    "            sns.plt.xticks(size=18)\n",
    "            sns.plt.yticks(size=18)\n",
    "            sns.plt.savefig('Same_source_'+filename.split(\"_\")[1].split('.')[0]+'_and_baseline_'+filename[:2]+'_'+filename.split('baseline')[-1].split('.')[0]+'_cross_validation_KNN.eps', format='eps', dpi=600)\n",
    "\n",
    "            ######### RFC ###############\n",
    "            model_accuracies = []\n",
    "            for i in range(1000):\n",
    "                (training_inputs,\n",
    "                 testing_inputs,\n",
    "                 training_classes,\n",
    "                 testing_classes) = train_test_split(HH_X0[names], HH_X0['rfi'], train_size=0.7)\n",
    "\n",
    "                decision_tree_classifier = RandomForestClassifier()\n",
    "                decision_tree_classifier.fit(training_inputs, training_classes)\n",
    "                classifier_accuracy = decision_tree_classifier.score(testing_inputs, testing_classes)\n",
    "                model_accuracies.append(classifier_accuracy)\n",
    "\n",
    "            sns.plt.figure(figsize=(20,20)) \n",
    "            sns.distplot(model_accuracies)\n",
    "            sns.plt.xlabel(\"accuracy\",fontsize = 34 ,fontweight='bold')\n",
    "            sns.plt.ylabel(\"count\",fontsize = 34 ,fontweight='bold')\n",
    "            sns.plt.xticks(size=18)\n",
    "            sns.plt.yticks(size=18)\n",
    "            sns.plt.savefig('Same_source_'+filename.split(\"_\")[1].split('.')[0]+'_and_baseline_'+filename[:2]+'_'+filename.split('baseline')[-1].split('.')[0]+'_validation_RFC.eps', format='eps', dpi=600)\n",
    "\n",
    "            cv_scores = cross_val_score(decision_tree_classifier, HH_X0[names], HH_X0['rfi'], cv=15)\n",
    "            sns.plt.figure(figsize=(20,20))\n",
    "            sns.distplot(cv_scores)\n",
    "            sns.plt.xlabel(\"accuracy\",fontsize = 34 ,fontweight='bold')\n",
    "            sns.plt.ylabel(\"count\",fontsize = 34 ,fontweight='bold')\n",
    "            sns.plt.xticks(size=18)\n",
    "            sns.plt.yticks(size=18)\n",
    "            sns.plt.savefig('Same_source_'+filename.split(\"_\")[1].split('.')[0]+'_and_baseline_'+filename[:2]+'_'+filename.split('baseline')[-1].split('.')[0]+'_cross_validation_RFC.eps', format='eps', dpi=600)\n",
    "\n",
    "\n",
    "print \"done\""
   ]
  },
  {
   "cell_type": "code",
   "execution_count": null,
   "metadata": {
    "collapsed": true
   },
   "outputs": [],
   "source": []
  },
  {
   "cell_type": "code",
   "execution_count": null,
   "metadata": {
    "collapsed": true
   },
   "outputs": [],
   "source": []
  },
  {
   "cell_type": "code",
   "execution_count": null,
   "metadata": {
    "collapsed": true
   },
   "outputs": [],
   "source": []
  },
  {
   "cell_type": "code",
   "execution_count": null,
   "metadata": {
    "collapsed": true
   },
   "outputs": [],
   "source": []
  },
  {
   "cell_type": "code",
   "execution_count": null,
   "metadata": {
    "collapsed": true
   },
   "outputs": [],
   "source": []
  },
  {
   "cell_type": "code",
   "execution_count": null,
   "metadata": {
    "collapsed": true
   },
   "outputs": [],
   "source": []
  },
  {
   "cell_type": "code",
   "execution_count": null,
   "metadata": {
    "collapsed": true
   },
   "outputs": [],
   "source": []
  },
  {
   "cell_type": "code",
   "execution_count": null,
   "metadata": {
    "collapsed": true
   },
   "outputs": [],
   "source": []
  },
  {
   "cell_type": "code",
   "execution_count": null,
   "metadata": {
    "collapsed": true
   },
   "outputs": [],
   "source": []
  },
  {
   "cell_type": "code",
   "execution_count": null,
   "metadata": {
    "collapsed": true
   },
   "outputs": [],
   "source": []
  },
  {
   "cell_type": "code",
   "execution_count": null,
   "metadata": {
    "collapsed": true
   },
   "outputs": [],
   "source": []
  }
 ],
 "metadata": {
  "kernelspec": {
   "display_name": "Python 2",
   "language": "python",
   "name": "python2"
  },
  "language_info": {
   "codemirror_mode": {
    "name": "ipython",
    "version": 2
   },
   "file_extension": ".py",
   "mimetype": "text/x-python",
   "name": "python",
   "nbconvert_exporter": "python",
   "pygments_lexer": "ipython2",
   "version": "2.7.12"
  }
 },
 "nbformat": 4,
 "nbformat_minor": 2
}
