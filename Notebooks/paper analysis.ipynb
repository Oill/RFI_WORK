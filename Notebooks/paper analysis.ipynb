{
 "cells": [
  {
   "cell_type": "code",
   "execution_count": 1,
   "metadata": {},
   "outputs": [
    {
     "name": "stderr",
     "output_type": "stream",
     "text": [
      "/data/olorato/mywork/local/lib/python2.7/site-packages/sklearn/cross_validation.py:41: DeprecationWarning: This module was deprecated in version 0.18 in favor of the model_selection module into which all the refactored classes and functions are moved. Also note that the interface of the new CV iterators are different from that of this module. This module will be removed in 0.20.\n",
      "  \"This module will be removed in 0.20.\", DeprecationWarning)\n"
     ]
    }
   ],
   "source": [
    "import matplotlib\n",
    "matplotlib.use('Agg')\n",
    "import pandas as pd\n",
    "import seaborn as sns\n",
    "import glob\n",
    "import numpy as np\n",
    "# Some preprocessing utilities\n",
    "from sklearn.cross_validation import train_test_split # Data splitting\n",
    "from sklearn.naive_bayes import GaussianNB\n",
    "from sklearn.neighbors import KNeighborsClassifier\n",
    "from sklearn.ensemble import RandomForestClassifier\n",
    "from sklearn.metrics import roc_curve, auc\n",
    "from sklearn.metrics import accuracy_score\n",
    "from sklearn.metrics import precision_recall_fscore_support\n",
    "# Model result function\n",
    "from sklearn.metrics import classification_report,accuracy_score,confusion_matrix\n",
    "from sklearn import preprocessing\n",
    "from sklearn.utils import shuffle\n",
    "import itertools\n",
    "from sklearn.cross_validation import StratifiedKFold\n",
    "from sklearn.model_selection import RandomizedSearchCV\n",
    "from sklearn.preprocessing import normalize\n",
    "sns.set_context('paper',font_scale=2.5)\n",
    "palette = sns.plt.cm.gray_r\n",
    "#sns.set_style(\"ticks\", {\"xtick.major.size\": 10, \"ytick.major.size\": 10})\n",
    "\n",
    "# set masked values to plot red\n",
    "palette.set_bad('r', 1.0)\n",
    "%matplotlib inline"
   ]
  },
  {
   "cell_type": "code",
   "execution_count": 5,
   "metadata": {},
   "outputs": [
    {
     "name": "stdout",
     "output_type": "stream",
     "text": [
      "['HH1333305511_pks1613-586.1822.ms_all_data_baseline0and1.csv', 'HH1324619115_pks1613-586.1826.ms_all_data_baseline0and2.csv', 'HH1333134985_pks1613-586.1822.ms_all_data_baseline0and2.csv', 'HH1333305511_pks1613-586.1822.ms_all_data_baseline0and2.csv']\n"
     ]
    }
   ],
   "source": [
    "data_files = glob.glob(\"HH13333*pks16*0and1*csv\")+ glob.glob(\"HH13*pks16*0and2*csv\")\n",
    "print data_files"
   ]
  },
  {
   "cell_type": "code",
   "execution_count": 6,
   "metadata": {
    "collapsed": true
   },
   "outputs": [],
   "source": [
    "names = [\"d_p\",\"tC_mean\",\"tp_mean\",'t_skew','t_kurtosis','t_cumsumx','t_sumvalues'\n",
    "         ,'t_slope','t_per25','t_per75','t_var',\"fC_mean\",\"fp_mean\",'f_skew'\n",
    "         ,'f_kurtosis','f_cumsumx','f_sumvalues','f_slope','f_per25','f_per75','f_var']\n",
    "target_names = ['Not RFI','RFI']"
   ]
  },
  {
   "cell_type": "code",
   "execution_count": 23,
   "metadata": {},
   "outputs": [],
   "source": [
    "#data[name] #= \n",
    "#normalize(np.reshape(data[name],(1,-1)),norm='l2')[0]"
   ]
  },
  {
   "cell_type": "code",
   "execution_count": 25,
   "metadata": {},
   "outputs": [],
   "source": [
    "datasets = []\n",
    "files = []\n",
    "for filename in data_files[:7]:#[:15]:\n",
    "    data = pd.DataFrame.from_csv(filename)\n",
    "    if len(np.where(data[\"rfi\"].values == 1)[0])/float(len(data[\"rfi\"])) < 0.4:\n",
    "        for name in names:\n",
    "            data[name] = normalize(np.reshape(data[name],(1,-1)),norm='l2')[0]\n",
    "        datasets.append(data)\n",
    "        files.append(filename)\n",
    "    del data\n",
    "HH_X0 = pd.concat(datasets, ignore_index=True)\n",
    "\n",
    "datasets = []\n",
    "for filename in files:\n",
    "    data = pd.DataFrame.from_csv(filename.replace('HH','VV'))\n",
    "    for name in names:\n",
    "            data[name] = normalize(np.reshape(data[name],(1,-1)),norm='l2')[0]\n",
    "    datasets.append(data)\n",
    "    del data\n",
    "VV_X0 = pd.concat(datasets, ignore_index=True)\n",
    "del datasets\n",
    "\n",
    "datasets = []\n",
    "for filename in files:\n",
    "    data = pd.DataFrame.from_csv(filename.replace('HH','HV'))\n",
    "    for name in names:\n",
    "            data[name] = normalize(np.reshape(data[name],(1,-1)),norm='l2')[0]\n",
    "    datasets.append(data)\n",
    "    del data\n",
    "HV_X0 = pd.concat(datasets, ignore_index=True)\n",
    "del datasets"
   ]
  },
  {
   "cell_type": "code",
   "execution_count": 26,
   "metadata": {},
   "outputs": [
    {
     "name": "stdout",
     "output_type": "stream",
     "text": [
      "['HH1333305511_pks1613-586.1822.ms_all_data_baseline0and1.csv', 'HH1324619115_pks1613-586.1826.ms_all_data_baseline0and2.csv', 'HH1333134985_pks1613-586.1822.ms_all_data_baseline0and2.csv', 'HH1333305511_pks1613-586.1822.ms_all_data_baseline0and2.csv']\n"
     ]
    }
   ],
   "source": [
    "print files"
   ]
  },
  {
   "cell_type": "code",
   "execution_count": 27,
   "metadata": {
    "collapsed": true
   },
   "outputs": [],
   "source": [
    "for i in range(10):\n",
    "    HH_X0 = shuffle(HH_X0)\n",
    "    VV_X0 = shuffle(VV_X0)\n",
    "    HV_X0 = shuffle(HV_X0)\n",
    "\n",
    "HH_X0_not = HH_X0[HH_X0[\"rfi\"]==0]\n",
    "HH_X0_is = HH_X0[HH_X0[\"rfi\"]==1]\n",
    "HH_X0 = pd.concat([HH_X0_not[:len(HH_X0_is)*3],HH_X0_is], ignore_index=True)\n",
    "del HH_X0_not\n",
    "del HH_X0_is\n",
    "\n",
    "VV_X0_not = VV_X0[VV_X0[\"rfi\"]==0]\n",
    "VV_X0_is = VV_X0[VV_X0[\"rfi\"]==1]\n",
    "VV_X0 = pd.concat([VV_X0_not[:len(VV_X0_is)*3],VV_X0_is], ignore_index=True)\n",
    "del VV_X0_not\n",
    "del VV_X0_is\n",
    "\n",
    "HV_X0_not = HV_X0[HV_X0[\"rfi\"]==0]\n",
    "HV_X0_is = HV_X0[HV_X0[\"rfi\"]==1]\n",
    "HV_X0 = pd.concat([HV_X0_not[:len(HV_X0_is)*3],HV_X0_is], ignore_index=True)\n",
    "del HV_X0_not\n",
    "del HV_X0_is"
   ]
  },
  {
   "cell_type": "code",
   "execution_count": 28,
   "metadata": {},
   "outputs": [
    {
     "data": {
      "image/png": "[encoded data removed]",
      "text/plain": [
       "<matplotlib.figure.Figure at 0x7f0ffc3c8c50>"
      ]
     },
     "metadata": {},
     "output_type": "display_data"
    }
   ],
   "source": [
    "model_accuracies = []\n",
    "\n",
    "for i in range(1000):\n",
    "    (training_inputs,\n",
    "     testing_inputs,\n",
    "     training_classes,\n",
    "     testing_classes) = train_test_split(HH_X0[names], HH_X0['rfi'], train_size=0.7)\n",
    "    \n",
    "    decision_tree_classifier = RandomForestClassifier()\n",
    "    decision_tree_classifier.fit(training_inputs, training_classes)\n",
    "    classifier_accuracy = decision_tree_classifier.score(testing_inputs, testing_classes)\n",
    "    model_accuracies.append(classifier_accuracy)\n",
    "    \n",
    "sns.distplot(model_accuracies)\n",
    "\n",
    "model_accuracies = []\n",
    "\n",
    "for i in range(1000):\n",
    "    (training_inputs,\n",
    "     testing_inputs,\n",
    "     training_classes,\n",
    "     testing_classes) = train_test_split(HV_X0[names], HV_X0['rfi'], train_size=0.7)\n",
    "    \n",
    "    decision_tree_classifier = RandomForestClassifier()\n",
    "    decision_tree_classifier.fit(training_inputs, training_classes)\n",
    "    classifier_accuracy = decision_tree_classifier.score(testing_inputs, testing_classes)\n",
    "    model_accuracies.append(classifier_accuracy)\n",
    "    \n",
    "sns.distplot(model_accuracies)\n",
    "\n",
    "model_accuracies = []\n",
    "\n",
    "for i in range(1000):\n",
    "    (training_inputs,\n",
    "     testing_inputs,\n",
    "     training_classes,\n",
    "     testing_classes) = train_test_split(VV_X0[names], VV_X0['rfi'], train_size=0.7)\n",
    "    \n",
    "    decision_tree_classifier = RandomForestClassifier()\n",
    "    decision_tree_classifier.fit(training_inputs, training_classes)\n",
    "    classifier_accuracy = decision_tree_classifier.score(testing_inputs, testing_classes)\n",
    "    model_accuracies.append(classifier_accuracy)\n",
    "    \n",
    "sns.distplot(model_accuracies)\n",
    "\n",
    "sns.plt.show()"
   ]
  },
  {
   "cell_type": "code",
   "execution_count": 29,
   "metadata": {},
   "outputs": [
    {
     "data": {
      "image/png": "[encoded data removed]",
      "text/plain": [
       "<matplotlib.figure.Figure at 0x7f0ffc49fc50>"
      ]
     },
     "metadata": {},
     "output_type": "display_data"
    }
   ],
   "source": [
    "sns.distplot(model_accuracies)\n",
    "\n",
    "sns.plt.show()"
   ]
  },
  {
   "cell_type": "code",
   "execution_count": 30,
   "metadata": {
    "collapsed": true
   },
   "outputs": [],
   "source": [
    "for i in range(10):\n",
    "    HH_X0= shuffle(HH_X0)\n",
    "    HV_X0= shuffle(HV_X0)\n",
    "    VV_X0= shuffle(VV_X0)\n",
    "x_train0HH, x_test0HH, y_train0HH, y_test0HH = train_test_split(HH_X0[names], HH_X0['rfi'], test_size=0.30,random_state=0)\n",
    "\n",
    "x_train0HV, x_test0HV, y_train0HV, y_test0HV = train_test_split(HV_X0[names], HV_X0['rfi'], test_size=0.30,random_state=0)\n",
    "\n",
    "x_train0VV, x_test0VV, y_train0VV, y_test0VV = train_test_split(VV_X0[names], VV_X0['rfi'], test_size=0.30,random_state=0)\n",
    "\n",
    "\n"
   ]
  },
  {
   "cell_type": "code",
   "execution_count": 31,
   "metadata": {
    "collapsed": true
   },
   "outputs": [],
   "source": [
    "#x_train0HH['rfi'] = y_train0HH\n",
    "#print x_train0HH.columns"
   ]
  },
  {
   "cell_type": "code",
   "execution_count": 32,
   "metadata": {
    "collapsed": true
   },
   "outputs": [],
   "source": [
    "HHcv = StratifiedKFold(y_train0HH, n_folds=10,shuffle=True, random_state=0)\n",
    "VVcv = StratifiedKFold(y_train0VV, n_folds=10,shuffle=True, random_state=0)\n",
    "HVcv = StratifiedKFold(y_train0HV, n_folds=10,shuffle=True, random_state=0)\n",
    "rfc = RandomForestClassifier(random_state=0)\n",
    "grid = {'n_estimators': np.arange(1, 11)\n",
    "        ,'criterion': ['gini', 'entropy']\n",
    "        ,'max_features':['sqrt','log2']\n",
    "        ,'max_depth':np.arange(2,11)\n",
    "        ,\"min_samples_split\": np.arange(2, 11)\n",
    "        ,\"min_samples_leaf\": np.arange(2, 11)\n",
    "        ,\"bootstrap\": [True, False]\n",
    "        ,'min_samples_split':np.arange(2,11)}\n",
    "\n",
    "HHrfc = RandomizedSearchCV(rfc, grid, cv=HHcv,n_iter=10)\n",
    "\n",
    "VVrfc = RandomizedSearchCV(rfc, grid, cv=VVcv,n_iter=10)\n",
    "\n",
    "HVrfc = RandomizedSearchCV(rfc, grid, cv=HVcv,n_iter=10)\n",
    "\n"
   ]
  },
  {
   "cell_type": "code",
   "execution_count": null,
   "metadata": {
    "collapsed": true
   },
   "outputs": [],
   "source": []
  },
  {
   "cell_type": "code",
   "execution_count": 33,
   "metadata": {
    "collapsed": true
   },
   "outputs": [],
   "source": [
    "HHrfc.fit(x_train0HH,y_train0HH)\n",
    "HHy_pred_prob_rfc = HHrfc.predict_proba(x_test0HH)\n",
    "HHy_pred_rfc = HHrfc.predict(x_test0HH)\n",
    "\n",
    "VVrfc.fit(x_train0VV,y_train0VV)\n",
    "VVy_pred_prob_rfc = VVrfc.predict_proba(x_test0VV)\n",
    "VVy_pred_rfc = VVrfc.predict(x_test0VV)\n",
    "\n",
    "HVrfc.fit(x_train0HV,y_train0HV)\n",
    "HVy_pred_prob_rfc = HVrfc.predict_proba(x_test0HV)\n",
    "HVy_pred_rfc = HVrfc.predict(x_test0HV)"
   ]
  },
  {
   "cell_type": "code",
   "execution_count": 34,
   "metadata": {
    "collapsed": true
   },
   "outputs": [],
   "source": [
    "#testVV = pd.DataFrame.from_csv('VV1333305511_pks1613-586.1822.ms_all_data_baseline0and1.csv')\n",
    "##y_pred_prob_rfc_VV = rfc.predict_proba(testVV[names])\n",
    "#y_pred_rfc_VV = rfc.predict(testVV[names])\n",
    "#del testVV\n",
    "#testHV = pd.DataFrame.from_csv('HV1333305511_pks1613-586.1822.ms_all_data_baseline0and1.csv')\n",
    "#y_pred_prob_rfc_HV = rfc.predict_proba(testHV[names])\n",
    "#y_pred_rfc_HV = rfc.predict(testHV[names])\n",
    "#del testHV"
   ]
  },
  {
   "cell_type": "code",
   "execution_count": 35,
   "metadata": {
    "collapsed": true
   },
   "outputs": [],
   "source": [
    "def report(results, n_top=3):\n",
    "    for i in range(1, n_top + 1):\n",
    "        candidates = np.flatnonzero(results['rank_test_score'] == i)\n",
    "        for candidate in candidates:\n",
    "            print(\"Model with rank: {0}\".format(i))\n",
    "            print(\"Mean validation score: {0:.3f} (std: {1:.3f})\".format(\n",
    "                  results['mean_test_score'][candidate],\n",
    "                  results['std_test_score'][candidate]))\n",
    "            print(\"Parameters: {0}\".format(results['params'][candidate]))\n",
    "            print(\"\")"
   ]
  },
  {
   "cell_type": "code",
   "execution_count": 36,
   "metadata": {},
   "outputs": [
    {
     "name": "stdout",
     "output_type": "stream",
     "text": [
      "Model with rank: 1\n",
      "Mean validation score: 0.924 (std: 0.008)\n",
      "Parameters: {'bootstrap': False, 'min_samples_leaf': 3, 'n_estimators': 8, 'max_features': 'log2', 'criterion': 'gini', 'min_samples_split': 4, 'max_depth': 10}\n",
      "\n",
      "Model with rank: 2\n",
      "Mean validation score: 0.919 (std: 0.007)\n",
      "Parameters: {'bootstrap': True, 'min_samples_leaf': 10, 'n_estimators': 9, 'max_features': 'log2', 'criterion': 'entropy', 'min_samples_split': 3, 'max_depth': 8}\n",
      "\n",
      "Model with rank: 3\n",
      "Mean validation score: 0.919 (std: 0.010)\n",
      "Parameters: {'bootstrap': True, 'min_samples_leaf': 3, 'n_estimators': 3, 'max_features': 'log2', 'criterion': 'gini', 'min_samples_split': 6, 'max_depth': 7}\n",
      "\n",
      "Model with rank: 1\n",
      "Mean validation score: 0.965 (std: 0.018)\n",
      "Parameters: {'bootstrap': False, 'min_samples_leaf': 8, 'n_estimators': 10, 'max_features': 'sqrt', 'criterion': 'gini', 'min_samples_split': 2, 'max_depth': 9}\n",
      "\n",
      "Model with rank: 2\n",
      "Mean validation score: 0.933 (std: 0.031)\n",
      "Parameters: {'bootstrap': True, 'min_samples_leaf': 4, 'n_estimators': 5, 'max_features': 'log2', 'criterion': 'entropy', 'min_samples_split': 7, 'max_depth': 7}\n",
      "\n",
      "Model with rank: 3\n",
      "Mean validation score: 0.932 (std: 0.030)\n",
      "Parameters: {'bootstrap': False, 'min_samples_leaf': 8, 'n_estimators': 3, 'max_features': 'log2', 'criterion': 'entropy', 'min_samples_split': 6, 'max_depth': 8}\n",
      "\n",
      "Model with rank: 1\n",
      "Mean validation score: 0.970 (std: 0.014)\n",
      "Parameters: {'bootstrap': False, 'min_samples_leaf': 5, 'n_estimators': 7, 'max_features': 'sqrt', 'criterion': 'entropy', 'min_samples_split': 4, 'max_depth': 8}\n",
      "\n",
      "Model with rank: 2\n",
      "Mean validation score: 0.970 (std: 0.022)\n",
      "Parameters: {'bootstrap': False, 'min_samples_leaf': 7, 'n_estimators': 6, 'max_features': 'log2', 'criterion': 'gini', 'min_samples_split': 10, 'max_depth': 9}\n",
      "\n",
      "Model with rank: 3\n",
      "Mean validation score: 0.970 (std: 0.018)\n",
      "Parameters: {'bootstrap': False, 'min_samples_leaf': 8, 'n_estimators': 9, 'max_features': 'sqrt', 'criterion': 'entropy', 'min_samples_split': 9, 'max_depth': 8}\n",
      "\n"
     ]
    }
   ],
   "source": [
    "report(HHrfc.cv_results_)\n",
    "report(VVrfc.cv_results_)\n",
    "report(HVrfc.cv_results_)"
   ]
  },
  {
   "cell_type": "code",
   "execution_count": 37,
   "metadata": {},
   "outputs": [
    {
     "name": "stdout",
     "output_type": "stream",
     "text": [
      "RandomForestClassifier(bootstrap=False, class_weight=None, criterion='gini',\n",
      "            max_depth=10, max_features='log2', max_leaf_nodes=None,\n",
      "            min_impurity_decrease=0.0, min_impurity_split=None,\n",
      "            min_samples_leaf=3, min_samples_split=4,\n",
      "            min_weight_fraction_leaf=0.0, n_estimators=8, n_jobs=1,\n",
      "            oob_score=False, random_state=0, verbose=0, warm_start=False)\n",
      "RandomForestClassifier(bootstrap=False, class_weight=None, criterion='gini',\n",
      "            max_depth=9, max_features='sqrt', max_leaf_nodes=None,\n",
      "            min_impurity_decrease=0.0, min_impurity_split=None,\n",
      "            min_samples_leaf=8, min_samples_split=2,\n",
      "            min_weight_fraction_leaf=0.0, n_estimators=10, n_jobs=1,\n",
      "            oob_score=False, random_state=0, verbose=0, warm_start=False)\n",
      "RandomForestClassifier(bootstrap=False, class_weight=None,\n",
      "            criterion='entropy', max_depth=8, max_features='sqrt',\n",
      "            max_leaf_nodes=None, min_impurity_decrease=0.0,\n",
      "            min_impurity_split=None, min_samples_leaf=5,\n",
      "            min_samples_split=4, min_weight_fraction_leaf=0.0,\n",
      "            n_estimators=7, n_jobs=1, oob_score=False, random_state=0,\n",
      "            verbose=0, warm_start=False)\n"
     ]
    }
   ],
   "source": [
    "print HHrfc.best_estimator_\n",
    "\n",
    "print VVrfc.best_estimator_\n",
    "\n",
    "print HVrfc.best_estimator_"
   ]
  },
  {
   "cell_type": "code",
   "execution_count": 38,
   "metadata": {
    "collapsed": true
   },
   "outputs": [],
   "source": [
    "def roc_plot(classifiers,subplot,model_names):\n",
    "    #c = ['r','g','b']\n",
    "    if subplot == True:\n",
    "        num = len(classifiers)\n",
    "        sns.plt.figure()\n",
    "        for i in range(num):\n",
    "            sns.plt.subplot(1,num,i+1)\n",
    "            clf = classifiers[i]\n",
    "            y_roc_fpr, y_roc_tpr, y_roc_thresholds = roc_curve(y_test0, clf[:,1])\n",
    "            sns.plt.plot(y_roc_fpr, y_roc_tpr,label=model_names[i]+' AUC = %0.2f'% auc(y_roc_fpr, y_roc_tpr))\n",
    "            #sns.plt.legend(loc='lower right')\n",
    "            sns.plt.plot([0,1],[0,1],'r--')\n",
    "            sns.plt.xlim([-0.1,1.2])\n",
    "            sns.plt.ylim([-0.1,1.2])\n",
    "            sns.plt.ylabel('True Positive Rate')\n",
    "            sns.plt.xlabel('False Positive Rate')\n",
    "    if subplot == False:\n",
    "        num = len(classifiers)\n",
    "        sns.plt.figure(figsize=(10,10))\n",
    "        for i in range(num):\n",
    "            clf = classifiers[i]\n",
    "            if 'VV' in model_names[i]:\n",
    "                y_roc_fpr, y_roc_tpr, y_roc_thresholds = roc_curve(y_test0VV, clf[:,1])\n",
    "            elif 'HV' in model_names[i]:\n",
    "                y_roc_fpr, y_roc_tpr, y_roc_thresholds = roc_curve(y_test0HV, clf[:,1])\n",
    "            else:\n",
    "                y_roc_fpr, y_roc_tpr, y_roc_thresholds = roc_curve(y_test0HH, clf[:,1])\n",
    "            sns.plt.plot(y_roc_fpr, y_roc_tpr,label=model_names[i]+' AUC = %0.2f'% auc(y_roc_fpr, y_roc_tpr))\n",
    "            #sns.plt.legend(loc='lower right')\n",
    "            sns.plt.plot([0,1],[0,1],'r--')\n",
    "            sns.plt.xlim([-0.1,1.2])\n",
    "            sns.plt.ylim([-0.1,1.2])\n",
    "            sns.plt.ylabel('True Positive Rate')\n",
    "            sns.plt.xlabel('False Positive Rate')\n",
    "    return"
   ]
  },
  {
   "cell_type": "code",
   "execution_count": 39,
   "metadata": {},
   "outputs": [
    {
     "data": {
      "image/png": "[encoded data removed]",
      "text/plain": [
       "<matplotlib.figure.Figure at 0x7f1051afa8d0>"
      ]
     },
     "metadata": {},
     "output_type": "display_data"
    },
    {
     "data": {
      "text/plain": [
       "<matplotlib.figure.Figure at 0x7f1042062f50>"
      ]
     },
     "metadata": {},
     "output_type": "display_data"
    }
   ],
   "source": [
    "model_names =['HH','VV','HV']\n",
    "roc_plot([HHy_pred_prob_rfc ,VVy_pred_prob_rfc,HVy_pred_prob_rfc],False,model_names)\n",
    "sns.plt.show()\n",
    "sns.plt.savefig(\"polroc.png\")"
   ]
  },
  {
   "cell_type": "code",
   "execution_count": 40,
   "metadata": {
    "collapsed": true
   },
   "outputs": [],
   "source": [
    "def plot_confusion_matrix(cm, classes,\n",
    "                          normalize=False,\n",
    "                          title='Confusion matrix',\n",
    "                          cmap=sns.plt.cm.Blues):\n",
    "    \"\"\"\n",
    "    This function prints and plots the confusion matrix.\n",
    "    Normalization can be applied by setting `normalize=True`.\n",
    "    \"\"\"\n",
    "    sns.plt.imshow(cm, interpolation='nearest', cmap=cmap)\n",
    "    sns.plt.title(title)\n",
    "    sns.plt.colorbar()\n",
    "    tick_marks = np.arange(len(classes))\n",
    "    sns.plt.xticks(tick_marks, classes, rotation=45)\n",
    "    sns.plt.yticks(tick_marks, classes)\n",
    "\n",
    "    if normalize:\n",
    "        cm = cm.astype('float') / cm.sum(axis=1)[:, np.newaxis]\n",
    "        #print(\"Normalized confusion matrix\")\n",
    "    else:\n",
    "        pass\n",
    "        #print('Confusion matrix, without normalization')\n",
    "\n",
    "    #print(cm)\n",
    "\n",
    "    thresh = cm.max() / 2.\n",
    "    for i, j in itertools.product(range(cm.shape[0]), range(cm.shape[1])):\n",
    "        sns.plt.text(j, i, round(cm[i, j],3),\n",
    "                 horizontalalignment=\"center\",\n",
    "                 color=\"white\" if cm[i, j] > thresh else \"black\")\n",
    "\n",
    "    sns.plt.tight_layout()\n",
    "    sns.plt.grid(False)\n",
    "    sns.plt.ylabel('True label')\n",
    "    sns.plt.xlabel('Predicted label')\n",
    "    \n",
    "def evaluate(model,modelname):\n",
    "    for i in range(len(models)):\n",
    "        # Do the actual prediction\n",
    "        print('====================================================')\n",
    "        print('Classification Report for %s'%modelname[i])\n",
    "        print('====================================================')\n",
    "        if 'VV' in model_names[i]:\n",
    "            print(classification_report(y_test0VV,model[i],target_names=['Not RFI','RFI']))\n",
    "\n",
    "            print('\\n The model is %f accurate' %(accuracy_score(y_test0VV,model[i])*100))\n",
    "            print('Confusion Matrix')\n",
    "            cnf_matrix = confusion_matrix(y_test0VV,model[i])\n",
    "            sns.plt.figure()\n",
    "        #sns.plt.subplot(1,3,i+1)\n",
    "            plot_confusion_matrix(cnf_matrix, classes=target_names,\n",
    "                          title='Confusion matrix')\n",
    "            #sns.plt.subplot(2,1,2)\n",
    "            #plot_confusion_matrix(cnf_matrix, classes=target_names,normalize=True\n",
    "        #                      ,title='Normalized confusion matrix')\n",
    "            print('====================================================\\n\\n')\n",
    "            \n",
    "        elif 'HV' in model_names[i]:\n",
    "            print(classification_report(y_test0HV,model[i],target_names=['Not RFI','RFI']))\n",
    "\n",
    "            print('\\n The model is %f accurate' %(accuracy_score(y_test0HV,model[i])*100))\n",
    "            print('Confusion Matrix')\n",
    "            cnf_matrix = confusion_matrix(y_test0HV,model[i])\n",
    "            sns.plt.figure()\n",
    "        #sns.plt.subplot(1,3,i+1)\n",
    "            plot_confusion_matrix(cnf_matrix, classes=target_names,\n",
    "                          title='Confusion matrix')\n",
    "            #sns.plt.subplot(2,1,2)\n",
    "            #plot_confusion_matrix(cnf_matrix, classes=target_names,normalize=True\n",
    "        #                      ,title='Normalized confusion matrix')\n",
    "            print('====================================================\\n\\n')            \n",
    "        else:\n",
    "            print(classification_report(y_test0HH,model[i],target_names=['Not RFI','RFI']))\n",
    "\n",
    "            print('\\n The model is %f accurate' %(accuracy_score(y_test0HH,model[i])*100))\n",
    "            print('Confusion Matrix')\n",
    "            cnf_matrix = confusion_matrix(y_test0HH,model[i])\n",
    "            sns.plt.figure()\n",
    "        #sns.plt.subplot(1,3,i+1)\n",
    "            plot_confusion_matrix(cnf_matrix, classes=target_names,\n",
    "                          title='Confusion matrix')\n",
    "            #sns.plt.subplot(2,1,2)\n",
    "            #plot_confusion_matrix(cnf_matrix, classes=target_names,normalize=True\n",
    "        #                      ,title='Normalized confusion matrix')\n",
    "            print('====================================================\\n\\n')"
   ]
  },
  {
   "cell_type": "code",
   "execution_count": 124,
   "metadata": {
    "scrolled": false
   },
   "outputs": [
    {
     "name": "stdout",
     "output_type": "stream",
     "text": [
      "====================================================\n",
      "Classification Report for HH polarization\n",
      "====================================================\n",
      "             precision    recall  f1-score   support\n",
      "\n",
      "    Not RFI       0.93      0.97      0.95      6205\n",
      "        RFI       0.97      0.93      0.95      6407\n",
      "\n",
      "avg / total       0.95      0.95      0.95     12612\n",
      "\n",
      "\n",
      " The model is 95.091976 accurate\n",
      "Confusion Matrix\n",
      "====================================================\n",
      "\n",
      "\n",
      "====================================================\n",
      "Classification Report for VV polarization\n",
      "====================================================\n",
      "             precision    recall  f1-score   support\n",
      "\n",
      "    Not RFI       0.97      0.98      0.97      6259\n",
      "        RFI       0.98      0.97      0.97      6353\n",
      "\n",
      "avg / total       0.97      0.97      0.97     12612\n",
      "\n",
      "\n",
      " The model is 97.224865 accurate\n",
      "Confusion Matrix\n",
      "====================================================\n",
      "\n",
      "\n",
      "====================================================\n",
      "Classification Report for HV polarization\n",
      "====================================================\n",
      "             precision    recall  f1-score   support\n",
      "\n",
      "    Not RFI       0.98      0.99      0.98      6297\n",
      "        RFI       0.99      0.97      0.98      6315\n",
      "\n",
      "avg / total       0.98      0.98      0.98     12612\n",
      "\n",
      "\n",
      " The model is 98.097050 accurate\n",
      "Confusion Matrix\n",
      "====================================================\n",
      "\n",
      "\n"
     ]
    },
    {
     "data": {
      "image/png": "[encoded data removed]",
      "text/plain": [
       "<matplotlib.figure.Figure at 0x7fcb2f5f9a90>"
      ]
     },
     "metadata": {},
     "output_type": "display_data"
    },
    {
     "data": {
      "image/png": "[encoded data removed]",
      "text/plain": [
       "<matplotlib.figure.Figure at 0x7fcb2f909f10>"
      ]
     },
     "metadata": {},
     "output_type": "display_data"
    },
    {
     "data": {
      "image/png": "[encoded data removed]",
      "text/plain": [
       "<matplotlib.figure.Figure at 0x7fcb2f7ad910>"
      ]
     },
     "metadata": {},
     "output_type": "display_data"
    }
   ],
   "source": [
    "models =[HHy_pred_rfc, VVy_pred_rfc,HVy_pred_rfc]\n",
    "model_names =['HH polarization','VV polarization','HV polarization']\n",
    "#sns.plt.figure(figsize=(20,20))\n",
    "evaluate(models,model_names)\n",
    "sns.plt.show()"
   ]
  },
  {
   "cell_type": "code",
   "execution_count": 125,
   "metadata": {},
   "outputs": [
    {
     "name": "stdout",
     "output_type": "stream",
     "text": [
      "HH\n",
      "\n",
      " The model is 95.680099 accurate\n",
      "\n",
      " The model is 66.780056 accurate\n",
      "\n",
      " The model is 78.778724 accurate\n",
      "VV\n",
      "\n",
      " The model is 64.717636 accurate\n",
      "\n",
      " The model is 97.671155 accurate\n",
      "\n",
      " The model is 80.641325 accurate\n",
      "HV\n",
      "\n",
      " The model is 63.885056 accurate\n",
      "\n",
      " The model is 70.564727 accurate\n",
      "\n",
      " The model is 98.322946 accurate\n"
     ]
    }
   ],
   "source": [
    "#testVV = pd.DataFrame.from_csv('VV1333305511_pks1613-586.1822.ms_all_data_baseline0and1.csv')\n",
    "print \"HH\"\n",
    "y_pred_rfc = HHrfc.predict(HH_X0[names])\n",
    "print('\\n The model is %f accurate' %(accuracy_score(HH_X0['rfi'],y_pred_rfc)*100))\n",
    "\n",
    "y_pred_rfc = HHrfc.predict(VV_X0[names])\n",
    "print('\\n The model is %f accurate' %(accuracy_score(VV_X0['rfi'],y_pred_rfc)*100))\n",
    "\n",
    "y_pred_rfc = HHrfc.predict(HV_X0[names])\n",
    "print('\\n The model is %f accurate' %(accuracy_score(HV_X0['rfi'],y_pred_rfc)*100))\n",
    "\n",
    "\n",
    "print \"VV\"\n",
    "y_pred_rfc = VVrfc.predict(HH_X0[names])\n",
    "print('\\n The model is %f accurate' %(accuracy_score(HH_X0['rfi'],y_pred_rfc)*100))\n",
    "\n",
    "y_pred_rfc = VVrfc.predict(VV_X0[names])\n",
    "print('\\n The model is %f accurate' %(accuracy_score(VV_X0['rfi'],y_pred_rfc)*100))\n",
    "\n",
    "y_pred_rfc = VVrfc.predict(HV_X0[names])\n",
    "print('\\n The model is %f accurate' %(accuracy_score(HV_X0['rfi'],y_pred_rfc)*100))\n",
    "\n",
    "print \"HV\"\n",
    "y_pred_rfc = HVrfc.predict(HH_X0[names])\n",
    "print('\\n The model is %f accurate' %(accuracy_score(HH_X0['rfi'],y_pred_rfc)*100))\n",
    "\n",
    "y_pred_rfc = HVrfc.predict(VV_X0[names])\n",
    "print('\\n The model is %f accurate' %(accuracy_score(VV_X0['rfi'],y_pred_rfc)*100))\n",
    "\n",
    "y_pred_rfc = HVrfc.predict(HV_X0[names])\n",
    "print('\\n The model is %f accurate' %(accuracy_score(HV_X0['rfi'],y_pred_rfc)*100))\n",
    "\n",
    "\n"
   ]
  },
  {
   "cell_type": "code",
   "execution_count": 126,
   "metadata": {},
   "outputs": [
    {
     "name": "stdout",
     "output_type": "stream",
     "text": [
      " HH unseen\n",
      "\n",
      " The model is 97.671716 accurate\n",
      "\n",
      " The model is 95.082167 accurate\n",
      "\n",
      " The model is 96.853028 accurate\n",
      " VV unseen\n",
      "\n",
      " The model is 72.868247 accurate\n",
      "\n",
      " The model is 85.666028 accurate\n",
      "\n",
      " The model is 82.965177 accurate\n",
      " HV unseen\n",
      "\n",
      " The model is 98.746997 accurate\n",
      "\n",
      " The model is 82.071509 accurate\n",
      "\n",
      " The model is 86.189724 accurate\n"
     ]
    }
   ],
   "source": [
    "unseen = 'HH1324619115_pks1934-63.1826.ms_all_data_baseline0and2.csv'\n",
    "HHunseen = pd.DataFrame.from_csv(unseen)\n",
    "VVunseen = pd.DataFrame.from_csv(unseen.replace(\"HH\",\"VV\"))\n",
    "HVunseen = pd.DataFrame.from_csv(unseen.replace(\"HH\",\"HV\"))\n",
    "print \" HH unseen\"\n",
    "y_pred_rfc = HHrfc.predict(normalize(HHunseen[names],norm='l2',axis=0))\n",
    "print('\\n The model is %f accurate' %(accuracy_score(HHunseen['rfi'],y_pred_rfc)*100))\n",
    "\n",
    "y_pred_rfc = HHrfc.predict(normalize(VVunseen[names],norm='l2',axis=0))\n",
    "print('\\n The model is %f accurate' %(accuracy_score(VVunseen['rfi'],y_pred_rfc)*100))\n",
    "\n",
    "y_pred_rfc = HHrfc.predict(normalize(HVunseen[names],norm='l2',axis=0))\n",
    "print('\\n The model is %f accurate' %(accuracy_score(HVunseen['rfi'],y_pred_rfc)*100))\n",
    "\n",
    "print \" VV unseen\"\n",
    "y_pred_rfc = VVrfc.predict(normalize(HHunseen[names],norm='l2',axis=0))\n",
    "print('\\n The model is %f accurate' %(accuracy_score(HHunseen['rfi'],y_pred_rfc)*100))\n",
    "\n",
    "y_pred_rfc = VVrfc.predict(normalize(VVunseen[names],norm='l2',axis=0))\n",
    "print('\\n The model is %f accurate' %(accuracy_score(VVunseen['rfi'],y_pred_rfc)*100))\n",
    "\n",
    "y_pred_rfc = VVrfc.predict(normalize(HVunseen[names],norm='l2',axis=0))\n",
    "print('\\n The model is %f accurate' %(accuracy_score(HVunseen['rfi'],y_pred_rfc)*100))\n",
    "\n",
    "print \" HV unseen\"\n",
    "y_pred_rfc = HVrfc.predict(normalize(HHunseen[names],norm='l2',axis=0))\n",
    "print('\\n The model is %f accurate' %(accuracy_score(HHunseen['rfi'],y_pred_rfc)*100))\n",
    "\n",
    "y_pred_rfc = HVrfc.predict(normalize(VVunseen[names],norm='l2',axis=0))\n",
    "print('\\n The model is %f accurate' %(accuracy_score(VVunseen['rfi'],y_pred_rfc)*100))\n",
    "\n",
    "y_pred_rfc = HVrfc.predict(normalize(HVunseen[names],norm='l2',axis=0))\n",
    "print('\\n The model is %f accurate' %(accuracy_score(HVunseen['rfi'],y_pred_rfc)*100))"
   ]
  },
  {
   "cell_type": "code",
   "execution_count": 127,
   "metadata": {},
   "outputs": [
    {
     "name": "stdout",
     "output_type": "stream",
     "text": [
      "Feature ranking:\n",
      "1. feature tC_mean (0.662301)\n",
      "2. feature tp_mean (0.059854)\n",
      "3. feature t_cumsumx (0.050358)\n",
      "4. feature t_per25 (0.035774)\n",
      "5. feature t_sumvalues (0.032318)\n",
      "6. feature f_sumvalues (0.025545)\n",
      "7. feature t_var (0.025082)\n",
      "8. feature t_per75 (0.021129)\n",
      "9. feature f_per75 (0.019664)\n",
      "10. feature fp_mean (0.019055)\n",
      "11. feature fC_mean (0.010897)\n",
      "12. feature f_slope (0.006187)\n",
      "13. feature f_per25 (0.005448)\n",
      "14. feature d_p (0.005145)\n",
      "15. feature f_var (0.004540)\n",
      "16. feature f_kurtosis (0.004154)\n",
      "17. feature t_skew (0.003610)\n",
      "18. feature t_slope (0.002896)\n",
      "19. feature f_cumsumx (0.002714)\n",
      "20. feature f_skew (0.001865)\n",
      "21. feature t_kurtosis (0.001463)\n"
     ]
    }
   ],
   "source": [
    "importances = HHrfc.best_estimator_.feature_importances_\n",
    "std = np.std([tree.feature_importances_ for tree in HHrfc.best_estimator_.estimators_],\n",
    "             axis=0)\n",
    "indices = np.argsort(importances)[::-1]\n",
    "\n",
    "feature_space= []\n",
    "# Print the feature ranking\n",
    "print(\"Feature ranking:\")\n",
    "\n",
    "for f in range(x_train0HH.shape[1]):\n",
    "    print(\"%d. feature %s (%f)\" % (f + 1, names[indices[f]], importances[indices[f]]))\n",
    "    feature_space.append(names[indices[f]])"
   ]
  },
  {
   "cell_type": "code",
   "execution_count": 128,
   "metadata": {},
   "outputs": [
    {
     "name": "stdout",
     "output_type": "stream",
     "text": [
      "Feature ranking:\n",
      "1. feature tC_mean (0.674655)\n",
      "2. feature tp_mean (0.076420)\n",
      "3. feature t_cumsumx (0.058493)\n",
      "4. feature t_sumvalues (0.042220)\n",
      "5. feature t_per25 (0.029221)\n",
      "6. feature t_var (0.025335)\n",
      "7. feature fp_mean (0.024427)\n",
      "8. feature t_per75 (0.022161)\n",
      "9. feature fC_mean (0.011874)\n",
      "10. feature f_sumvalues (0.008271)\n",
      "11. feature d_p (0.004253)\n",
      "12. feature f_cumsumx (0.003969)\n",
      "13. feature f_skew (0.003705)\n",
      "14. feature t_skew (0.002957)\n",
      "15. feature f_per75 (0.002427)\n",
      "16. feature f_slope (0.002266)\n",
      "17. feature f_kurtosis (0.001766)\n",
      "18. feature t_slope (0.001730)\n",
      "19. feature t_kurtosis (0.001627)\n",
      "20. feature f_var (0.001294)\n",
      "21. feature f_per25 (0.000927)\n"
     ]
    }
   ],
   "source": [
    "importances = VVrfc.best_estimator_.feature_importances_\n",
    "std = np.std([tree.feature_importances_ for tree in VVrfc.best_estimator_.estimators_],\n",
    "             axis=0)\n",
    "indices = np.argsort(importances)[::-1]\n",
    "\n",
    "feature_space= []\n",
    "# Print the feature ranking\n",
    "print(\"Feature ranking:\")\n",
    "\n",
    "for f in range(x_train0HH.shape[1]):\n",
    "    print(\"%d. feature %s (%f)\" % (f + 1, names[indices[f]], importances[indices[f]]))\n",
    "    feature_space.append(names[indices[f]])"
   ]
  },
  {
   "cell_type": "code",
   "execution_count": 129,
   "metadata": {},
   "outputs": [
    {
     "name": "stdout",
     "output_type": "stream",
     "text": [
      "Feature ranking:\n",
      "1. feature tC_mean (0.619514)\n",
      "2. feature tp_mean (0.066220)\n",
      "3. feature t_cumsumx (0.065455)\n",
      "4. feature t_sumvalues (0.052379)\n",
      "5. feature t_per75 (0.044388)\n",
      "6. feature f_per75 (0.025048)\n",
      "7. feature f_cumsumx (0.022463)\n",
      "8. feature fC_mean (0.020247)\n",
      "9. feature t_per25 (0.019106)\n",
      "10. feature t_var (0.018429)\n",
      "11. feature fp_mean (0.012133)\n",
      "12. feature f_var (0.011019)\n",
      "13. feature f_sumvalues (0.008704)\n",
      "14. feature f_kurtosis (0.003944)\n",
      "15. feature f_slope (0.003065)\n",
      "16. feature d_p (0.002737)\n",
      "17. feature f_skew (0.001391)\n",
      "18. feature t_kurtosis (0.001119)\n",
      "19. feature f_per25 (0.001028)\n",
      "20. feature t_skew (0.000944)\n",
      "21. feature t_slope (0.000669)\n"
     ]
    }
   ],
   "source": [
    "importances = HVrfc.best_estimator_.feature_importances_\n",
    "std = np.std([tree.feature_importances_ for tree in HVrfc.best_estimator_.estimators_],\n",
    "             axis=0)\n",
    "indices = np.argsort(importances)[::-1]\n",
    "\n",
    "feature_space= []\n",
    "# Print the feature ranking\n",
    "print(\"Feature ranking:\")\n",
    "\n",
    "for f in range(x_train0HH.shape[1]):\n",
    "    print(\"%d. feature %s (%f)\" % (f + 1, names[indices[f]], importances[indices[f]]))\n",
    "    feature_space.append(names[indices[f]])"
   ]
  },
  {
   "cell_type": "code",
   "execution_count": null,
   "metadata": {
    "collapsed": true
   },
   "outputs": [],
   "source": []
  },
  {
   "cell_type": "code",
   "execution_count": null,
   "metadata": {
    "collapsed": true
   },
   "outputs": [],
   "source": []
  },
  {
   "cell_type": "code",
   "execution_count": null,
   "metadata": {
    "collapsed": true
   },
   "outputs": [],
   "source": []
  },
  {
   "cell_type": "code",
   "execution_count": null,
   "metadata": {
    "collapsed": true
   },
   "outputs": [],
   "source": []
  },
  {
   "cell_type": "code",
   "execution_count": null,
   "metadata": {
    "collapsed": true
   },
   "outputs": [],
   "source": []
  },
  {
   "cell_type": "code",
   "execution_count": null,
   "metadata": {
    "collapsed": true
   },
   "outputs": [],
   "source": []
  },
  {
   "cell_type": "code",
   "execution_count": null,
   "metadata": {
    "collapsed": true
   },
   "outputs": [],
   "source": []
  }
 ],
 "metadata": {
  "kernelspec": {
   "display_name": "Python 2",
   "language": "python",
   "name": "python2"
  },
  "language_info": {
   "codemirror_mode": {
    "name": "ipython",
    "version": 2
   },
   "file_extension": ".py",
   "mimetype": "text/x-python",
   "name": "python",
   "nbconvert_exporter": "python",
   "pygments_lexer": "ipython2",
   "version": "2.7.12"
  }
 },
 "nbformat": 4,
 "nbformat_minor": 2
}
